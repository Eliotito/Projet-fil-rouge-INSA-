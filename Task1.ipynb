{
 "cells": [
  {
   "cell_type": "markdown",
   "metadata": {},
   "source": [
    "# Using Natural Language Processing to Generate New Recipes in Python\n",
    "Welcome to this project! We will be finetuning a distilled version of GPT-2 on a smaller-scale dataset comprising recipes. The recipes are split into ingredients and instructions. Can we use GPT-2 to generate instructions from a list of ingredients?\n",
    "\n",
    "## Prerequisites\n",
    "- Intermediate-level knowledge of Python\n",
    "- Basic UNIX/Bash skills for launching scripts\n",
    "- A Google account (if you'd like to launch a finetuning instance on Google Colab)\n",
    "- Basic knowledge of neural networks and deep learning (knowledge about large-scale models like BERT and GPT-2 will be preferred, but is not necessary)\n",
    "- Some basic Natural Language Processing (NLP) experience will be beneficial\n",
    "\n",
    "## Task 1: Introduction\n",
    "[This is the dataset](https://eightportions.com/datasets/Recipes/#fn:1) we will be using. It is collated by Ryan Lee, sourced from [Food Network](https://www.foodnetwork.com/), [Epicurious](https://www.epicurious.com/), and [Allrecipes](https://www.allrecipes.com/).\n",
    "\n",
    "### Sample\n",
    "*Herb Rubbed Sirloin Tip Roast*\n",
    "\n",
    "- 1 1/4 tablespoons paprika\n",
    "- 1 tablespoon kosher salt\n",
    "- 1 teaspoon garlic powder\n",
    "- 1/2 teaspoon ground black pepper\n",
    "- 1/2 teaspoon onion powder\n",
    "- 1/2 teaspoon ground cayenne pepper\n",
    "- 1/2 teaspoon dried oregano\n",
    "- 1/2 teaspoon dried thyme\n",
    "- 2 tablespoons olive oil\n",
    "- 1 (3 pound) sirloin tip roast\n",
    "\n",
    "In a small bowl, mix the paprika, kosher salt, garlic powder, black pepper, onion powder, cayenne pepper, oregano, and thyme. Stir in the olive oil, and allow the mixture to sit about 15 minutes.\n",
    "\n",
    "Preheat oven to 350 degrees F (175 degrees C). Line a baking sheet with aluminum foil.\n",
    "\n",
    "Place the roast on the prepared baking sheet, and cover on all sides with the spice mixture.\n",
    "\n",
    "Roast 1 hour in the preheated oven, or to a minimum internal temperature of 145 degrees F (63 degrees C). Let sit 15 minutes before slicing."
   ]
  },
  {
   "cell_type": "code",
   "execution_count": 3,
   "metadata": {},
   "outputs": [
    {
     "name": "stderr",
     "output_type": "stream",
     "text": [
      "Cloning into 'transformers'...\n",
      "Updating files:  34% (598/1733)\n",
      "Updating files:  35% (607/1733)\n",
      "Updating files:  36% (624/1733)\n",
      "Updating files:  37% (642/1733)\n",
      "Updating files:  38% (659/1733)\n",
      "Updating files:  39% (676/1733)\n",
      "Updating files:  40% (694/1733)\n",
      "Updating files:  41% (711/1733)\n",
      "Updating files:  42% (728/1733)\n",
      "Updating files:  43% (746/1733)\n",
      "Updating files:  44% (763/1733)\n",
      "Updating files:  45% (780/1733)\n",
      "Updating files:  46% (798/1733)\n",
      "Updating files:  47% (815/1733)\n",
      "Updating files:  48% (832/1733)\n",
      "Updating files:  49% (850/1733)\n",
      "Updating files:  50% (867/1733)\n",
      "Updating files:  51% (884/1733)\n",
      "Updating files:  52% (902/1733)\n",
      "Updating files:  53% (919/1733)\n",
      "Updating files:  54% (936/1733)\n",
      "Updating files:  55% (954/1733)\n",
      "Updating files:  56% (971/1733)\n",
      "Updating files:  56% (972/1733)\n",
      "Updating files:  57% (988/1733)\n",
      "Updating files:  58% (1006/1733)\n",
      "Updating files:  59% (1023/1733)\n",
      "Updating files:  60% (1040/1733)\n",
      "Updating files:  61% (1058/1733)\n",
      "Updating files:  62% (1075/1733)\n",
      "Updating files:  63% (1092/1733)\n",
      "Updating files:  64% (1110/1733)\n",
      "Updating files:  64% (1115/1733)\n",
      "Updating files:  65% (1127/1733)\n",
      "Updating files:  66% (1144/1733)\n",
      "Updating files:  67% (1162/1733)\n",
      "Updating files:  68% (1179/1733)\n",
      "Updating files:  69% (1196/1733)\n",
      "Updating files:  70% (1214/1733)\n",
      "Updating files:  71% (1231/1733)\n",
      "Updating files:  72% (1248/1733)\n",
      "Updating files:  73% (1266/1733)\n",
      "Updating files:  73% (1279/1733)\n",
      "Updating files:  74% (1283/1733)\n",
      "Updating files:  75% (1300/1733)\n",
      "Updating files:  76% (1318/1733)\n",
      "Updating files:  77% (1335/1733)\n",
      "Updating files:  78% (1352/1733)\n",
      "Updating files:  79% (1370/1733)\n",
      "Updating files:  80% (1387/1733)\n",
      "Updating files:  81% (1404/1733)\n",
      "Updating files:  82% (1422/1733)\n",
      "Updating files:  83% (1439/1733)\n",
      "Updating files:  84% (1456/1733)\n",
      "Updating files:  85% (1474/1733)\n",
      "Updating files:  85% (1487/1733)\n",
      "Updating files:  86% (1491/1733)\n",
      "Updating files:  87% (1508/1733)\n",
      "Updating files:  88% (1526/1733)\n",
      "Updating files:  89% (1543/1733)\n",
      "Updating files:  90% (1560/1733)\n",
      "Updating files:  91% (1578/1733)\n",
      "Updating files:  92% (1595/1733)\n",
      "Updating files:  93% (1612/1733)\n",
      "Updating files:  94% (1630/1733)\n",
      "Updating files:  95% (1647/1733)\n",
      "Updating files:  96% (1664/1733)\n",
      "Updating files:  97% (1682/1733)\n",
      "Updating files:  98% (1699/1733)\n",
      "Updating files:  99% (1716/1733)\n",
      "Updating files: 100% (1733/1733)\n",
      "Updating files: 100% (1733/1733), done.\n"
     ]
    }
   ],
   "source": [
    "!git clone https://github.com/huggingface/transformers \n"
   ]
  },
  {
   "cell_type": "code",
   "execution_count": 1,
   "metadata": {},
   "outputs": [
    {
     "name": "stderr",
     "output_type": "stream",
     "text": [
      "Le chemin d’accès spécifié est introuvable.\n"
     ]
    }
   ],
   "source": [
    "!cd transformers ;!pip3 install ."
   ]
  },
  {
   "cell_type": "code",
   "execution_count": 6,
   "metadata": {},
   "outputs": [
    {
     "name": "stderr",
     "output_type": "stream",
     "text": [
      "ERROR: Directory '.' is not installable. Neither 'setup.py' nor 'pyproject.toml' found.\n"
     ]
    }
   ],
   "source": []
  }
 ],
 "metadata": {
  "kernelspec": {
   "display_name": "Python 3",
   "language": "python",
   "name": "python3"
  },
  "language_info": {
   "codemirror_mode": {
    "name": "ipython",
    "version": 3
   },
   "file_extension": ".py",
   "mimetype": "text/x-python",
   "name": "python",
   "nbconvert_exporter": "python",
   "pygments_lexer": "ipython3",
   "version": "3.8.8"
  }
 },
 "nbformat": 4,
 "nbformat_minor": 4
}
